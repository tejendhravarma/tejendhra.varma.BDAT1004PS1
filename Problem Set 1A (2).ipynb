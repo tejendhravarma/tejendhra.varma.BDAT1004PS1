{
 "cells": [
  {
   "cell_type": "code",
   "execution_count": 19,
   "id": "0ed5d5e3",
   "metadata": {},
   "outputs": [
    {
     "name": "stdout",
     "output_type": "stream",
     "text": [
      "Enter a sentence you want to convert into Pig-latin: tejendhra\n",
      "Pig Latin:  ejendhratay\n"
     ]
    }
   ],
   "source": [
    "#Q6 Python program for converting into Pig_latin\n",
    "\n",
    "#taking a sentence as an input form the keyboard by the user\n",
    "value = input('Enter a sentence you want to convert into Pig-latin: ').lower() #since the output must be in lowercase \n",
    "words = value.split()#when a sentence is split by a <space>\n",
    "\n",
    "for i, word in enumerate(words):\n",
    "    \n",
    "    \n",
    "    #when the firds letter is a vowel\n",
    "    \n",
    "    if word[0] in 'aeiou':\n",
    "        #tagging way at the end since the condition satisfies for a word with 1st letter vowel\n",
    "        words[i] = words[i]+ \"way\"\n",
    "    else:\n",
    "        \n",
    "        #else get vowel position and postfix all the consonants \n",
    "        #present before that vowel to the end of the word along with \"ay\"\n",
    "        \n",
    "        flag = 0 #means lets say absence of the vowel\n",
    "        \n",
    "        for j, letter in enumerate(word):\n",
    "            if letter in 'aeiou':\n",
    "                words[i] = word[j:] + word[:j] + \"ay\"#moving every element 1 index value left\n",
    "                flag = 1\n",
    "                break\n",
    "\n",
    "        #if the word doesn't have any vowel then simply tag \"ay\" at the end\n",
    "        if(flag == 0):\n",
    "            words[i] = words[i]+ \"ay\"\n",
    "\n",
    "pig_latin = ' '.join(words)#now finally we join the split parts\n",
    "print(\"Pig Latin: \",pig_latin)\n"
   ]
  },
  {
   "cell_type": "code",
   "execution_count": 9,
   "id": "48900988",
   "metadata": {},
   "outputs": [
    {
     "name": "stdout",
     "output_type": "stream",
     "text": [
      "please state your name to get the report: tejendhra\n",
      "hi here are the reports tejendhra\n",
      " no's of A is 15\n",
      " no's of B is 1\n",
      " no's of AB is 13\n",
      " no's of O is 15\n",
      " no's of OO is 0\n"
     ]
    }
   ],
   "source": [
    "#Q7 reads the file with name name and reports (i.e., prints) how many patients there are in each bloodtype. '''\n",
    "def bldcount(f_name):#defining the function\n",
    "    count=0#initial value stays 0 for the count acknowledgement\n",
    "    bloodtypes=['A','B','AB','O','OO']#key provided for the further verification\n",
    "    with open(f_name,'r') as contents :\n",
    "        content= contents.read()\n",
    "    data= content.split()\n",
    "    for bloodtype in bloodtypes:\n",
    "        count= data.count(bloodtype)\n",
    "        print(\" no's of \" + bloodtype+ \" is \" +str(count))\n",
    "     \n",
    "            \n",
    "            \n",
    "\n",
    "name=input(\"please state your name to get the report: \")\n",
    "print(\"hi here are the reports\",name)\n",
    "bldcount('bloodtype1.txt')"
   ]
  },
  {
   "cell_type": "code",
   "execution_count": 13,
   "id": "9e2db4fd",
   "metadata": {},
   "outputs": [
    {
     "name": "stdout",
     "output_type": "stream",
     "text": [
      "AUD\t1.0345157\tAustralian Dollar\n",
      "CHF\t1.0237414\tSwiss Franc\n",
      "CNY\t0.1550176\tChinese Yuan\n",
      "DKK\t0.1651442\tDanish Krone\n",
      "EUR\t1.2296544\tEuro\n",
      "GBP\t1.5550989\tBritish Pound\n",
      "HKD\t0.1270207\tHong Kong Dollar\n",
      "INR\t0.0177643\tIndian Rupee\n",
      "JPY\t0.01241401\tJapanese Yen\n",
      "MXN\t0.0751848\tMexican Peso\n",
      "MYR\t0.3145411\tMalaysian Ringgit\n",
      "NOK\t0.1677063\tNorwegian Krone\n",
      "NZD\t0.8003591\tNew Zealand Dollar\n",
      "PHP\t0.0233234\tPhilippine Peso\n",
      "SEK\t0.148269\tSwedish Krona\n",
      "SGD\t0.788871\tSingapore Dollar\n",
      "THB\t0.0313789\tThai Baht\n",
      "enter the currency you want to know about : THB\n",
      "3.13789\n"
     ]
    }
   ],
   "source": [
    "'''Q8Write a function curconv() that takes as input:\n",
    "1. a currency represented using a string (e.g., 'JPY' for the Japanese Yen or \n",
    "'EUR' for the Euro)\n",
    "2. an amount\n",
    "and then converts and returns the amount in US dollars'''\n",
    "def curconv(currency, amount):#defines a function curconv for the conversion required\n",
    "    \n",
    "    \n",
    "    with open('currencies.txt','r') as contents :#(opens the .txt document of the name currencies)\n",
    "        content= contents.readlines()#content now has the read contents of .txt file provided\n",
    "    \n",
    "    for line in content:\n",
    "        words=line.split()\n",
    "        if words[0]==currency:\n",
    "            factor=words[1]\n",
    "            print(float(factor)*amount)\n",
    "    \n",
    "f1=open('currencies.txt','r') #(a file object used to open .txt file)\n",
    "s=f1.read()#s variable contains the content of the opened .txt file\n",
    "print(s)\n",
    "cur=input(\"enter the currency you want to know about : \")  \n",
    "curconv(cur,100)"
   ]
  },
  {
   "cell_type": "code",
   "execution_count": 27,
   "id": "bc867424",
   "metadata": {},
   "outputs": [
    {
     "ename": "SyntaxError",
     "evalue": "unexpected EOF while parsing (<ipython-input-27-243085f96b2f>, line 9)",
     "output_type": "error",
     "traceback": [
      "\u001b[1;36m  File \u001b[1;32m\"<ipython-input-27-243085f96b2f>\"\u001b[1;36m, line \u001b[1;32m9\u001b[0m\n\u001b[1;33m    #f1=open('cur.txt','r')#FileNotFoundError: [Errno 2] No such file or directory: 'cur.txt'\u001b[0m\n\u001b[1;37m                                                                                             ^\u001b[0m\n\u001b[1;31mSyntaxError\u001b[0m\u001b[1;31m:\u001b[0m unexpected EOF while parsing\n"
     ]
    }
   ],
   "source": [
    "#Q9Each of the following will cause an exception (an error). Identify what type of exception each will cause.\n",
    "9+'a'#TypeError: unsupported operand type(s) for +: 'int' and 'str'\n",
    "num = [1,2,3,5,6,7,8,9,11]\n",
    "if num[12]==num[13]:#SyntaxError unexpected EOF while parsing\n",
    "    print( \"hi\" )\n",
    "\n",
    "math.sqrt(-1.0)#NameError: name 'math' is not defined\n",
    "print(x)#NameError: name 'x' is not defined\n",
    "f1=open('cur.txt','r')#FileNotFoundError: [Errno 2] No such file or directory: 'cur.txt'\n"
   ]
  },
  {
   "cell_type": "code",
   "execution_count": 21,
   "id": "15558f9c",
   "metadata": {},
   "outputs": [
    {
     "name": "stdout",
     "output_type": "stream",
     "text": [
      "enter your statement : The quick red fox got bored and went home.\n",
      "[1, 1, 1, 3, 5, 1, 1, 2, 1, 0, 1, 0, 1, 2, 4, 0, 1, 2, 0, 2, 1, 0, 1, 1, 0, 0]\n",
      "cracked\n"
     ]
    }
   ],
   "source": [
    "'''Q10 Write a function called frequencies()\n",
    "that takes a string as its only parameter, and returns a list of integers, showing the \n",
    "number of times each character appears in the text. Your function may ignore any \n",
    "characters that are not in letters.'''\n",
    "def frequencies(message):#defiined the function frequencies\n",
    "    counts=[]\n",
    "    test=[1, 1, 1, 3, 5, 1, 1, 2, 1, 0, 1, 0, 1, 2, 4, 0, 1, 2, 0, 2,\n",
    "1, 0, 1, 1, 0, 0]#providing the key to test\n",
    "    letters='abcdefghijklmnopqrstuvwxyz'#provided the set of alphabet\n",
    "    for letter  in letters:\n",
    "        count=0\n",
    "        for alphabet in message:\n",
    "            if(letter==alphabet):\n",
    "                count=count+1\n",
    "        counts.append(count)# everytime the alphabet tallies the individual posiition the count increase for acknowledgement\n",
    "    print(counts)\n",
    "    if counts==test:#the condition satisfying the required\n",
    "        print('cracked')#if the frequency satisfies you shall get the output declared before hand\n",
    "        \n",
    "state=input('enter your statement : ')#asking the statement as an input to verify adns tored in \"state\"\n",
    "frequencies(state)# passing \"state\"'s value as parameter to call the function'\n"
   ]
  },
  {
   "cell_type": "code",
   "execution_count": null,
   "id": "76999e9a",
   "metadata": {},
   "outputs": [],
   "source": []
  },
  {
   "cell_type": "code",
   "execution_count": null,
   "id": "698aa93c",
   "metadata": {},
   "outputs": [],
   "source": []
  },
  {
   "cell_type": "code",
   "execution_count": null,
   "id": "3665fd1e",
   "metadata": {},
   "outputs": [],
   "source": []
  },
  {
   "cell_type": "code",
   "execution_count": null,
   "id": "240b4009",
   "metadata": {},
   "outputs": [],
   "source": []
  },
  {
   "cell_type": "code",
   "execution_count": null,
   "id": "a608afb2",
   "metadata": {},
   "outputs": [],
   "source": []
  }
 ],
 "metadata": {
  "kernelspec": {
   "display_name": "Python 3",
   "language": "python",
   "name": "python3"
  },
  "language_info": {
   "codemirror_mode": {
    "name": "ipython",
    "version": 3
   },
   "file_extension": ".py",
   "mimetype": "text/x-python",
   "name": "python",
   "nbconvert_exporter": "python",
   "pygments_lexer": "ipython3",
   "version": "3.8.8"
  }
 },
 "nbformat": 4,
 "nbformat_minor": 5
}
