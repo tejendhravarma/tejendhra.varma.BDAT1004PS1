{
 "cells": [
  {
   "cell_type": "code",
   "execution_count": null,
   "id": "fb3e92c7",
   "metadata": {},
   "outputs": [],
   "source": [
    "//Q1 What data type is each of the following?\n",
    "5 - int, 5.0 - float, 5>1 - boolean, '5' - Char, 52 - int, '5'2 - int,\n",
    "'5'+'2' - int, 5/2 - int, 5%2 - int, {5,2,1} - int, 5==3 - boolean, pi - double"
   ]
  },
  {
   "cell_type": "code",
   "execution_count": 29,
   "id": "c78acdb6",
   "metadata": {},
   "outputs": [
    {
     "name": "stdout",
     "output_type": "stream",
     "text": [
      "the length of the word is 34\r\n"
     ]
    }
   ],
   "source": [
    "//Q2aHow many letters are there in 'Supercalifragilisticexpialidocious'?\n",
    "string word = \"Supercalifragilisticexpialidocious\";\n",
    "Console.WriteLine(\"the length of the word is \"+word.Length);"
   ]
  },
  {
   "cell_type": "code",
   "execution_count": 30,
   "id": "da4074c0",
   "metadata": {},
   "outputs": [
    {
     "name": "stdout",
     "output_type": "stream",
     "text": [
      "Supercalifragilisticexpialidocious contains ice\r\n"
     ]
    }
   ],
   "source": [
    "//Q2bDoes 'Supercalifragilisticexpialidocious' contain 'ice' as a substring? \n",
    "string s1 = \"Supercalifragilisticexpialidocious\";\n",
    "string s2 = \"ice\";\n",
    "//conditional statements for verifying\n",
    "if(s1.Contains(s2))\n",
    "Console.WriteLine(\"Supercalifragilisticexpialidocious contains ice\");\n",
    "else\n",
    "Console.WriteLine(\"Supercalifragilisticexpialidocious doesn't contain ice\");\n"
   ]
  },
  {
   "cell_type": "code",
   "execution_count": 28,
   "id": "92a3661c",
   "metadata": {},
   "outputs": [
    {
     "name": "stdout",
     "output_type": "stream",
     "text": [
      "Bababadalgharaghtakamminarronnkonn is bigger with the length 34\r\n"
     ]
    }
   ],
   "source": [
    "//Q2c\n",
    "string s1=\"Supercalifragilisticexpialidocious\";\n",
    "string s2=\"Honorificabilitudinitatibus\";\n",
    "string s3=\"Bababadalgharaghtakamminarronnkonn\";\n",
    "//conditional statements to draw a comparision\n",
    "if(s1.Length>s2.Length){\n",
    "if(s1.Length>s3.Length){\n",
    "Console.WriteLine(s1+\" is bigger with the length \"+s1.Length);\n",
    "}\n",
    "else{\n",
    "Console.WriteLine(s3+\" is bigger with the length \"+s3.Length);\n",
    "}\n",
    "}\n",
    "else{\n",
    "if(s2.Length>s3.Length){\n",
    "Console.WriteLine(s2+\" is bigger with the length \"+s2.Length);\n",
    "}\n",
    "else{\n",
    "Console.WriteLine(s3+\" is bigger with the length \"+s3.Length);\n",
    "}\n",
    "}"
   ]
  },
  {
   "cell_type": "code",
   "execution_count": 22,
   "id": "3e6ce5f8",
   "metadata": {},
   "outputs": [
    {
     "name": "stdout",
     "output_type": "stream",
     "text": [
      "even numbers are\n",
      "42\n",
      "56\n",
      "32\n",
      "odd numbers are\n",
      "25\n",
      "47\n"
     ]
    }
   ],
   "source": [
    "//Q4 Write a program in C# Sharp to separate odd and even integers in separate arrays\n",
    "\n",
    "int[] a1=new int[5];\n",
    "int[] a2=new int[5];\n",
    "int c1=0,c2=0,i;\n",
    "int[] values ={ 25, 47, 42, 56, 32  };  \n",
    "         \n",
    "        foreach (var result in values)  \n",
    "        {  \n",
    "            if (result%2 == 0)  \n",
    "            {  \n",
    "                a1[c1]=result;\n",
    "                c1++;\n",
    "            } \n",
    "            else\n",
    "            {a2[c2]=result;\n",
    "                c2++;\n",
    "            }\n",
    "        }  \n",
    "Console.WriteLine(\"even numbers are\");\n",
    "for(i=0;i<c1;i++)\n",
    "    Console.WriteLine(a1[i]);\n",
    "Console.WriteLine(\"odd numbers are\");\n",
    "for(i=0;i<c2;i++)\n",
    "    Console.WriteLine(a2[i]);\n"
   ]
  },
  {
   "cell_type": "code",
   "execution_count": null,
   "id": "e4b51768",
   "metadata": {},
   "outputs": [],
   "source": []
  },
  {
   "cell_type": "code",
   "execution_count": null,
   "id": "a3f660e1",
   "metadata": {},
   "outputs": [],
   "source": [
    "\n"
   ]
  },
  {
   "cell_type": "code",
   "execution_count": null,
   "id": "684b8e13",
   "metadata": {},
   "outputs": [],
   "source": []
  }
 ],
 "metadata": {
  "kernelspec": {
   "display_name": ".NET (C#)",
   "language": "C#",
   "name": ".net-csharp"
  },
  "language_info": {
   "file_extension": ".cs",
   "mimetype": "text/x-csharp",
   "name": "C#",
   "pygments_lexer": "csharp",
   "version": "8.0"
  }
 },
 "nbformat": 4,
 "nbformat_minor": 5
}
